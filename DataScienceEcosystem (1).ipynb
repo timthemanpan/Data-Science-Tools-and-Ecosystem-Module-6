{
 "cells": [
  {
   "cell_type": "markdown",
   "id": "6e23c9a3-493e-41a1-847a-75990a857120",
   "metadata": {},
   "source": [
    "# Data Science Tools and Ecosystem"
   ]
  },
  {
   "cell_type": "markdown",
   "id": "af823706-7789-4b74-9fc8-8d29692cf584",
   "metadata": {},
   "source": [
    "## Author\n",
    "Timothy Pan Yuanquan"
   ]
  },
  {
   "cell_type": "markdown",
   "id": "30793c52-2edb-41e5-81b5-566ee87ca65d",
   "metadata": {},
   "source": [
    "In this notebook, Data Science Tools and Ecosystem are summarized.\n"
   ]
  },
  {
   "cell_type": "markdown",
   "id": "d0a6ef2d-dca0-44af-8e55-1fb70044a6e6",
   "metadata": {},
   "source": [
    "**Objectives:**\n",
    "\n",
    "- List popular languages for Data Science.\n",
    "- Commonly used libraries for Data Science.\n",
    "- Data Science Tools\n",
    "  "
   ]
  },
  {
   "cell_type": "markdown",
   "id": "7972a3f7-e6a6-475a-9163-5ce90f428be4",
   "metadata": {},
   "source": [
    "Some of the popular languages that Data Scientists use are:\n",
    "1. Python\n",
    "2. R\n",
    "3. SQL"
   ]
  },
  {
   "cell_type": "markdown",
   "id": "22b13677-553d-44af-a6fe-4b76914609d7",
   "metadata": {},
   "source": [
    "Some of the commonly used libraries used by Data Scientists include:\n",
    "1. Pandas\n",
    "2. Scitkitlearn\n",
    "3. Numpy\n",
    "4. Tensorflow\n",
    "5. Seaborn\n",
    "6. Matplotlib"
   ]
  },
  {
   "cell_type": "markdown",
   "id": "9ac02417-9f0f-4aee-a98a-cd1eb91ef23f",
   "metadata": {},
   "source": [
    "## Data Science Tools\n",
    "R Studio<br>\n",
    "Apache Spark<br>\n",
    "Hadoop<br>\n",
    "TensorFlow<br>\n",
    "Jupyter<br>"
   ]
  },
  {
   "cell_type": "markdown",
   "id": "ce747453-3430-47cd-a122-06df08cebfce",
   "metadata": {},
   "source": [
    "### Below are a few examples of evaluating arithmetic expressions in Python"
   ]
  },
  {
   "cell_type": "code",
   "execution_count": 3,
   "id": "f078323a-4d71-4471-ba5c-03f74f901129",
   "metadata": {},
   "outputs": [
    {
     "data": {
      "text/plain": [
       "17"
      ]
     },
     "execution_count": 3,
     "metadata": {},
     "output_type": "execute_result"
    }
   ],
   "source": [
    "# This a simple arithmetic expression to mutiply then add integers\n",
    "(3*4)+5"
   ]
  },
  {
   "cell_type": "code",
   "execution_count": 4,
   "id": "d69b6a51-841d-40c6-8303-b40bce1addfd",
   "metadata": {},
   "outputs": [
    {
     "name": "stdout",
     "output_type": "stream",
     "text": [
      "3.3333333333333335\n"
     ]
    }
   ],
   "source": [
    " # This will convert 200 minutes to hours by diving by 60\n",
    "hours=200/60\n",
    "print(hours)"
   ]
  },
  {
   "cell_type": "code",
   "execution_count": null,
   "id": "b9130028-6fd6-44d8-b9fd-d27b7c4e426b",
   "metadata": {},
   "outputs": [],
   "source": []
  }
 ],
 "metadata": {
  "kernelspec": {
   "display_name": "Python 3 (ipykernel)",
   "language": "python",
   "name": "python3"
  },
  "language_info": {
   "codemirror_mode": {
    "name": "ipython",
    "version": 3
   },
   "file_extension": ".py",
   "mimetype": "text/x-python",
   "name": "python",
   "nbconvert_exporter": "python",
   "pygments_lexer": "ipython3",
   "version": "3.11.9"
  }
 },
 "nbformat": 4,
 "nbformat_minor": 5
}
